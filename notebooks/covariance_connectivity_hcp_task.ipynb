{
 "cells": [
  {
   "cell_type": "markdown",
   "metadata": {},
   "source": [
    "<a href=\"https://colab.research.google.com/github/SocialDragonsNeuromatch/NeuromatchProject/blob/main/notebooks/covariance_connectivity_hcp_task.ipynb\" target=\"_parent\"><img src=\"https://colab.research.google.com/assets/colab-badge.svg\" alt=\"Open In Colab\"/></a>"
   ]
  },
  {
   "cell_type": "markdown",
   "metadata": {
    "execution": {},
    "id": "EzhrdguAWyBl"
   },
   "source": [
    "# Load HCP parcellated task data\n",
    "\n",
    "The HCP dataset comprises task-based fMRI from a large sample of human subjects. The NMA-curated dataset includes time series data that has been preprocessed and spatially-downsampled by aggregating within 360 regions of interest.\n",
    "\n",
    "In order to use this dataset, please electronically sign the HCP data use terms at [ConnectomeDB](https://db.humanconnectome.org). Instructions for this are on pp. 24-25 of the [HCP Reference Manual](https://www.humanconnectome.org/storage/app/media/documentation/s1200/HCP_S1200_Release_Reference_Manual.pdf).\n",
    "\n",
    "In this notebook, NMA provides code for downloading the data and doing some basic visualisation and processing."
   ]
  },
  {
   "cell_type": "code",
   "execution_count": 1,
   "metadata": {
    "id": "OsfRfseDWyBq",
    "tags": []
   },
   "outputs": [],
   "source": [
    "import os\n",
    "import numpy as np\n",
    "import pandas as pd\n",
    "import seaborn as sns\n",
    "import matplotlib.pyplot as plt\n",
    "\n",
    "from nilearn import plotting, datasets"
   ]
  },
  {
   "cell_type": "code",
   "execution_count": 2,
   "metadata": {
    "id": "qhHFPvU5WyBr",
    "tags": []
   },
   "outputs": [],
   "source": [
    "# @title Figure settings\n",
    "%matplotlib inline\n",
    "%config InlineBackend.figure_format = 'retina'\n",
    "plt.style.use(\"https://raw.githubusercontent.com/NeuromatchAcademy/course-content/main/nma.mplstyle\")"
   ]
  },
  {
   "cell_type": "code",
   "execution_count": 3,
   "metadata": {
    "id": "jHoPUc5EWyBr",
    "tags": []
   },
   "outputs": [],
   "source": [
    "# The download cells will store the data in nested directories starting here:\n",
    "HCP_DIR = \"./hcp\"\n",
    "if not os.path.isdir(HCP_DIR):\n",
    "  os.mkdir(HCP_DIR)\n",
    "\n",
    "# The data shared for NMA projects is a subset of the full HCP dataset\n",
    "N_SUBJECTS = 339\n",
    "\n",
    "# The data have already been aggregated into ROIs from the Glasser parcellation\n",
    "N_PARCELS = 360\n",
    "\n",
    "# The acquisition parameters for all tasks were identical\n",
    "TR = 0.72  # Time resolution, in seconds\n",
    "\n",
    "# The parcels are matched across hemispheres with the same order\n",
    "HEMIS = [\"Right\", \"Left\"]\n",
    "\n",
    "# Each experiment was repeated twice in each subject\n",
    "N_RUNS = 2\n",
    "\n",
    "# There are 7 tasks. Each has a number of 'conditions'\n",
    "\n",
    "EXPERIMENTS = {\n",
    "    'MOTOR'      : {'runs': [5,6],   'cond':['lf','rf','lh','rh','t','cue']},\n",
    "    'WM'         : {'runs': [7,8],   'cond':['0bk_body','0bk_faces','0bk_places','0bk_tools','2bk_body','2bk_faces','2bk_places','2bk_tools']},\n",
    "    'EMOTION'    : {'runs': [9,10],  'cond':['fear','neut']},\n",
    "    'GAMBLING'   : {'runs': [11,12], 'cond':['loss','win']},\n",
    "    'LANGUAGE'   : {'runs': [13,14], 'cond':['math','story']},\n",
    "    'RELATIONAL' : {'runs': [15,16], 'cond':['match','relation']},\n",
    "    'SOCIAL'     : {'runs': [17,18], 'cond':['mental','rnd']}\n",
    "}\n",
    "\n",
    "# You may want to limit the subjects used during code development.\n",
    "# This will use all subjects:\n",
    "subjects = range(N_SUBJECTS)"
   ]
  },
  {
   "cell_type": "markdown",
   "metadata": {
    "execution": {},
    "id": "UukQBScDWyBs"
   },
   "source": [
    "> For a detailed description of the tasks have a look pages 45-54 of the [HCP reference manual](https://www.humanconnectome.org/storage/app/media/documentation/s1200/HCP_S1200_Release_Reference_Manual.pdf)."
   ]
  },
  {
   "cell_type": "markdown",
   "metadata": {
    "execution": {},
    "id": "w1mC85gFWyBs"
   },
   "source": [
    "# Downloading data\n",
    "\n",
    "The task data are shared in different files, but they will unpack into the same directory structure.\n"
   ]
  },
  {
   "cell_type": "code",
   "execution_count": 4,
   "metadata": {
    "colab": {
     "base_uri": "https://localhost:8080/"
    },
    "id": "DWIZ3AatYOkn",
    "outputId": "23e0c39c-4cdf-4978-a535-716abab226e4",
    "tags": []
   },
   "outputs": [],
   "source": [
    "# @title Download the task data\n",
    "\n",
    "import os, requests, tarfile\n",
    "\n",
    "fname = \"hcp_task.tgz\"\n",
    "url = \"https://osf.io/s4h8j/download/\"\n",
    "\n",
    "if not os.path.isfile(fname):\n",
    "  try:\n",
    "    r = requests.get(url)\n",
    "  except requests.ConnectionError:\n",
    "    print(\"!!! Failed to download data !!!\")\n",
    "  else:\n",
    "    if r.status_code != requests.codes.ok:\n",
    "      print(\"!!! Failed to download data !!!\")\n",
    "    else:\n",
    "      print(f\"Downloading {fname}...\")\n",
    "      with open(fname, \"wb\") as fid:\n",
    "        fid.write(r.content)\n",
    "      print(f\"Download {fname} completed!\")\n",
    "      "
   ]
  },
  {
   "cell_type": "code",
   "execution_count": 5,
   "metadata": {
    "colab": {
     "base_uri": "https://localhost:8080/"
    },
    "id": "CLOP682OWyBs",
    "outputId": "d81ef867-752b-4f71-94bc-58ce5055e460",
    "tags": []
   },
   "outputs": [],
   "source": [
    "# @title Download the rest data\n",
    "\n",
    "import os, requests, tarfile\n",
    "\n",
    "fname = \"hcp_rest.tgz\"\n",
    "url = \"https://osf.io/g759t/download/\"\n",
    "\n",
    "if not os.path.isfile(fname):\n",
    "  try:\n",
    "    r = requests.get(url)\n",
    "  except requests.ConnectionError:\n",
    "    print(\"!!! Failed to download data !!!\")\n",
    "  else:\n",
    "    if r.status_code != requests.codes.ok:\n",
    "      print(\"!!! Failed to download data !!!\")\n",
    "    else:\n",
    "      print(f\"Downloading {fname}...\")\n",
    "      with open(fname, \"wb\") as fid:\n",
    "        fid.write(r.content)\n",
    "      print(f\"Download {fname} completed!\")\n",
    "      "
   ]
  },
  {
   "cell_type": "code",
   "execution_count": 6,
   "metadata": {
    "colab": {
     "base_uri": "https://localhost:8080/"
    },
    "id": "L2vZZ9j2Xqkx",
    "outputId": "911bee8e-ac46-4912-e737-7ff0b13a70b7",
    "tags": []
   },
   "outputs": [
    {
     "name": "stdout",
     "output_type": "stream",
     "text": [
      "File hcp_task.tgz has already been extracted.\n"
     ]
    }
   ],
   "source": [
    "# @title Extract the task data in `HCP_DIR`\n",
    "fname_ex = \"hcp_task\"\n",
    "path_name = os.path.join(HCP_DIR, fname_ex)\n",
    "if not os.path.exists(path_name):\n",
    "  print(f\"Extracting {fname_ex}.tgz...\")\n",
    "  with tarfile.open(f\"{fname_ex}.tgz\") as fzip:\n",
    "    fzip.extractall(HCP_DIR)\n",
    "else:\n",
    "  print(f\"File {fname_ex}.tgz has already been extracted.\")"
   ]
  },
  {
   "cell_type": "code",
   "execution_count": 7,
   "metadata": {
    "colab": {
     "base_uri": "https://localhost:8080/"
    },
    "id": "k7AdRLTdWyBt",
    "outputId": "35664601-a418-4f12-a2d9-3e520c2b46c6",
    "tags": []
   },
   "outputs": [
    {
     "name": "stdout",
     "output_type": "stream",
     "text": [
      "File hcp_rest.tgz has already been extracted.\n"
     ]
    }
   ],
   "source": [
    "# @title Extract the rest data in `HCP_DIR`\n",
    "fname_ex = \"hcp_rest\"\n",
    "path_name = os.path.join(HCP_DIR, fname_ex)\n",
    "if not os.path.exists(path_name):\n",
    "  print(f\"Extracting {fname_ex}.tgz...\")\n",
    "  with tarfile.open(f\"{fname_ex}.tgz\") as fzip:\n",
    "    fzip.extractall(HCP_DIR)\n",
    "else:\n",
    "  print(f\"File {fname_ex}.tgz has already been extracted.\")"
   ]
  },
  {
   "cell_type": "markdown",
   "metadata": {
    "execution": {},
    "id": "eLGBZO5MWyBu"
   },
   "source": [
    "## Loading region information\n",
    "\n",
    "Downloading this dataset will create the `regions.npy` file, which contains the region name and network assignment for each parcel.\n",
    "\n",
    "Detailed information about the name used for each region is provided [in the Supplement](https://static-content.springer.com/esm/art%3A10.1038%2Fnature18933/MediaObjects/41586_2016_BFnature18933_MOESM330_ESM.pdf) to [Glasser et al. 2016](https://www.nature.com/articles/nature18933).\n",
    "\n",
    "Information about the network parcellation is provided in [Ji et al, 2019](https://www.ncbi.nlm.nih.gov/pmc/articles/PMC6289683/).\n",
    "\n"
   ]
  },
  {
   "cell_type": "code",
   "execution_count": 8,
   "metadata": {
    "colab": {
     "base_uri": "https://localhost:8080/"
    },
    "id": "B-yQoYa6WyBu",
    "outputId": "1cba0a02-eeb9-46d7-856a-1148e3662586",
    "tags": []
   },
   "outputs": [
    {
     "name": "stdout",
     "output_type": "stream",
     "text": [
      "dict_keys(['name', 'network', 'hemi'])\n"
     ]
    }
   ],
   "source": [
    "regions = np.load(os.path.join(HCP_DIR, \"hcp_task\", \"regions.npy\")).T\n",
    "region_info = dict(name=regions[0].tolist(),\n",
    "                   network=regions[1],\n",
    "                   hemi=['Right']*int(N_PARCELS/2) + ['Left']*int(N_PARCELS/2))\n",
    "\n",
    "print(region_info.keys())"
   ]
  },
  {
   "cell_type": "code",
   "execution_count": 9,
   "metadata": {
    "colab": {
     "base_uri": "https://localhost:8080/"
    },
    "id": "n3MF9AeMIGcQ",
    "outputId": "d5c9c75b-7b17-436a-f7c3-86910a92d652"
   },
   "outputs": [
    {
     "name": "stdout",
     "output_type": "stream",
     "text": [
      "[ 11  24  25  27  73  74  78  80 122 124 127 128 138 171 191 205 254 258\n",
      " 302 304 308 318 351]\n",
      "['R_55b' 'R_PSL' 'R_SFL' 'R_STV' 'R_44' 'R_45' 'R_IFJa' 'R_IFSp' 'R_STGa'\n",
      " 'R_A5' 'R_STSda' 'R_STSdp' 'R_TPOJ1' 'R_TGv' 'L_55b' 'L_SFL' 'L_45'\n",
      " 'L_IFJa' 'L_STGa' 'L_A5' 'L_STSdp' 'L_TPOJ1' 'L_TGv']\n"
     ]
    }
   ],
   "source": [
    "region_name_list=region_info['name']\n",
    "region_network_list=list(region_info['network'].reshape(len(region_name_list),))\n",
    "region_name_array=np.array(region_name_list)\n",
    "region_network_array=np.array(region_network_list)\n",
    "\n",
    "region_number_array=np.array(range(len(region_name_list)))\n",
    "default_number_array=region_number_array[region_network_array == 'Default']\n",
    "default_name_array=region_name_array[region_network_array == 'Default']\n",
    "print(default_number_array)\n",
    "print(default_name_array)"
   ]
  },
  {
   "cell_type": "code",
   "execution_count": 10,
   "metadata": {},
   "outputs": [
    {
     "data": {
      "text/plain": [
       "360"
      ]
     },
     "execution_count": 10,
     "metadata": {},
     "output_type": "execute_result"
    }
   ],
   "source": [
    "len(region_name_list)"
   ]
  },
  {
   "cell_type": "markdown",
   "metadata": {
    "execution": {},
    "id": "vu1s7_XQWyBu"
   },
   "source": [
    "# Help functions\n",
    "\n",
    "We provide two helper functions: one for loading the time series from a single suject and a single run, and one for loading an EV file for each task. \n",
    "\n",
    "An EV file (EV:Explanatory Variable) describes the task experiment in terms of stimulus onset, duration, and amplitude. These can be used to model the task time series data."
   ]
  },
  {
   "cell_type": "code",
   "execution_count": 11,
   "metadata": {
    "id": "lYphS49yTmBU",
    "tags": []
   },
   "outputs": [],
   "source": [
    "def load_single_timeseries(subject, experiment, run, dir, remove_mean=True):\n",
    "  \"\"\"Load timeseries data for a single subject and single run.\n",
    "\n",
    "  Args:\n",
    "    subject (int): 0-based subject ID to load\n",
    "    experiment (str): Name of experiment\n",
    "    run (int): 0-based run index, across all tasks\n",
    "    remove_mean (bool): If True, subtract the parcel-wise mean (typically the mean BOLD signal is not of interest)\n",
    "\n",
    "  Returns\n",
    "    ts (n_parcel x n_timepoint array): Array of BOLD data values\n",
    "\n",
    "  \"\"\"\n",
    "  bold_run = EXPERIMENTS[experiment]['runs'][run]\n",
    "  bold_path = os.path.join(dir, \"subjects\", str(subject), \"timeseries\")\n",
    "  bold_file = f\"bold{bold_run}_Atlas_MSMAll_Glasser360Cortical.npy\"\n",
    "  ts = np.load(os.path.join(bold_path, bold_file))\n",
    "  if remove_mean:\n",
    "    ts -= ts.mean(axis=1, keepdims=True)\n",
    "  return ts\n",
    "\n",
    "\n",
    "\n",
    "def load_evs(subject, experiment, run, dir):\n",
    "  \"\"\"Load EVs (explanatory variables) data for one task experiment.\n",
    "\n",
    "  Args:\n",
    "    subject (int): 0-based subject ID to load\n",
    "    experiment (str) : Name of experiment\n",
    "    run (int) : 0-based run index, across all tasks\n",
    "\n",
    "  Returns\n",
    "    evs (list of lists): A list of frames associated with each condition\n",
    "\n",
    "  \"\"\"\n",
    "  frames_list = []\n",
    "  task_key = 'tfMRI_' + experiment + '_' + ['RL', 'LR'][run]\n",
    "  for cond in EXPERIMENTS[experiment]['cond']:\n",
    "    ev_file = os.path.join(dir, \"subjects\", str(subject), \"EVs\",\n",
    "                           str(task_key), f\"{cond}.txt\")\n",
    "\n",
    "    ev_array = np.loadtxt(ev_file, ndmin=2, unpack=True)\n",
    "    ev = dict(zip([\"onset\", \"duration\", \"amplitude\"], ev_array))\n",
    "    # Determine when trial starts, rounded down\n",
    "    start = np.floor(ev[\"onset\"] / TR).astype(int)\n",
    "    # Use trial duration to determine how many frames to include for trial\n",
    "    duration = np.ceil(ev[\"duration\"] / TR).astype(int)\n",
    "    # Take the range of frames that correspond to this specific trial\n",
    "    frames = [s + np.arange(0, d) for s, d in zip(start, duration)]\n",
    "    frames_list.append(frames)\n",
    "\n",
    "  return frames_list\n",
    "\n",
    "\n",
    "def load_rest_timeseries(subject, run, dir, remove_mean=True):\n",
    "  \"\"\"Load timeseries data for a single subject and single run.\n",
    "\n",
    "  Args:\n",
    "    subject (int): 0-based subject ID to load\n",
    "    experiment (str): Name of experiment\n",
    "    run (int): 0-based run index, across all tasks\n",
    "    remove_mean (bool): If True, subtract the parcel-wise mean (typically the mean BOLD signal is not of interest)\n",
    "\n",
    "  Returns\n",
    "    ts (n_parcel x n_timepoint array): Array of BOLD data values\n",
    "\n",
    "  \"\"\"\n",
    "  bold_run = run\n",
    "  bold_path = os.path.join(dir, \"subjects\", str(subject), \"timeseries\")\n",
    "  bold_file = f\"bold{bold_run}_Atlas_MSMAll_Glasser360Cortical.npy\"\n",
    "  ts = np.load(os.path.join(bold_path, bold_file))\n",
    "  if remove_mean:\n",
    "    ts -= ts.mean(axis=1, keepdims=True)\n",
    "  return ts"
   ]
  },
  {
   "cell_type": "markdown",
   "metadata": {
    "execution": {},
    "id": "a4pCxZ-yWyBv"
   },
   "source": [
    "# Example run\n",
    "\n",
    "Let's load the timeseries data for the MOTOR experiment from a single subject and a single run"
   ]
  },
  {
   "cell_type": "code",
   "execution_count": 12,
   "metadata": {
    "id": "ihTDnu3uNRz2",
    "tags": []
   },
   "outputs": [],
   "source": [
    "my_exp = 'SOCIAL'\n",
    "social_all_ts = []\n",
    "for my_subj in range(N_SUBJECTS):\n",
    "  two_runs_ts = []\n",
    "  for my_run in range(N_RUNS):\n",
    "    data = load_single_timeseries(subject=my_subj,experiment=my_exp,run=my_run,dir=os.path.join(HCP_DIR, \"hcp_task\"), remove_mean=True)\n",
    "    evs = load_evs(subject=my_subj, experiment=my_exp,run=my_run, dir=os.path.join(HCP_DIR, \"hcp_task\"))\n",
    "    two_cons_ts = []\n",
    "    for idx in range(2):\n",
    "      label = EXPERIMENTS[my_exp]['cond'][idx]\n",
    "      sub_evs = evs[idx]\n",
    "      for j in range(len(sub_evs)):\n",
    "        if j == 0:\n",
    "          con_ts = data[:,sub_evs[j]]\n",
    "        else:\n",
    "          con_ts = np.concatenate((con_ts,data[:,sub_evs[j]]),axis=-1)\n",
    "      two_cons_ts.append(con_ts)\n",
    "    two_runs_ts.append(two_cons_ts)\n",
    "  social_all_ts.append(two_runs_ts)"
   ]
  },
  {
   "cell_type": "code",
   "execution_count": 13,
   "metadata": {
    "id": "6BuEaZ8V5mid",
    "tags": []
   },
   "outputs": [],
   "source": [
    "my_exp = 'LANGUAGE'\n",
    "lan_all_ts = []\n",
    "for my_subj in range(N_SUBJECTS):\n",
    "  two_runs_ts = []\n",
    "  for my_run in range(N_RUNS):\n",
    "    data = load_single_timeseries(subject=my_subj,experiment=my_exp,run=my_run,dir=os.path.join(HCP_DIR, \"hcp_task\"), remove_mean=True)\n",
    "    evs = load_evs(subject=my_subj, experiment=my_exp,run=my_run, dir=os.path.join(HCP_DIR, \"hcp_task\"))\n",
    "    two_cons_ts = []\n",
    "    for idx in range(2):\n",
    "      label = EXPERIMENTS[my_exp]['cond'][idx]\n",
    "      sub_evs = evs[idx]\n",
    "      for j in range(len(sub_evs)):\n",
    "        if j == 0:\n",
    "          con_ts = data[:,sub_evs[j]]\n",
    "        else:\n",
    "          con_ts = np.concatenate((con_ts,data[:,sub_evs[j][sub_evs[j]<len(data[0])]]),axis=-1)\n",
    "      two_cons_ts.append(con_ts)\n",
    "    two_runs_ts.append(two_cons_ts)\n",
    "  lan_all_ts.append(two_runs_ts)\n"
   ]
  },
  {
   "cell_type": "code",
   "execution_count": 14,
   "metadata": {},
   "outputs": [
    {
     "data": {
      "text/plain": [
       "339"
      ]
     },
     "execution_count": 14,
     "metadata": {},
     "output_type": "execute_result"
    }
   ],
   "source": [
    "N_SUBJECTS"
   ]
  },
  {
   "cell_type": "code",
   "execution_count": 15,
   "metadata": {},
   "outputs": [],
   "source": [
    "# @title Download `atlas.npz`\n",
    "\n",
    "import os, requests, tarfile\n",
    "\n",
    "fname = \"atlas.npz\"\n",
    "url = \"https://osf.io/j5kuc/download\"\n",
    "\n",
    "if not os.path.isfile(fname):\n",
    "  try:\n",
    "    r = requests.get(url)\n",
    "  except requests.ConnectionError:\n",
    "    print(\"!!! Failed to download data !!!\")\n",
    "  else:\n",
    "    if r.status_code != requests.codes.ok:\n",
    "      print(\"!!! Failed to download data !!!\")\n",
    "    else:\n",
    "      print(f\"Downloading {fname}...\")\n",
    "      with open(fname, \"wb\") as fid:\n",
    "        fid.write(r.content)\n",
    "      print(f\"Download {fname} completed!\")"
   ]
  },
  {
   "cell_type": "code",
   "execution_count": 16,
   "metadata": {},
   "outputs": [],
   "source": [
    "# This uses the nilearn package\n",
    "\n",
    "with np.load(fname) as dobj:\n",
    "  atlas = dict(**dobj)\n",
    "\n",
    "coords = atlas['coords']"
   ]
  },
  {
   "cell_type": "code",
   "execution_count": 17,
   "metadata": {},
   "outputs": [
    {
     "data": {
      "text/plain": [
       "(360, 1200)"
      ]
     },
     "execution_count": 17,
     "metadata": {},
     "output_type": "execute_result"
    }
   ],
   "source": [
    "rest_ts = load_rest_timeseries(subject = 1, run = 1, dir=os.path.join(HCP_DIR, \"hcp_rest\"), remove_mean=True)\n",
    "rest_ts.shape"
   ]
  },
  {
   "cell_type": "code",
   "execution_count": 18,
   "metadata": {},
   "outputs": [],
   "source": [
    "from sklearn.covariance import GraphicalLassoCV\n",
    "from sklearn.covariance import EmpiricalCovariance\n",
    "from sklearn.covariance import ShrunkCovariance\n",
    "from sklearn.covariance import MinCovDet\n",
    "\n",
    "def get_covariance_matrix(time_series):\n",
    "    estimator = MinCovDet()\n",
    "    estimator.fit(time_series.T)\n",
    "    return estimator.covariance_\n",
    "\n",
    "import warnings\n",
    "warnings.filterwarnings('ignore')"
   ]
  },
  {
   "cell_type": "code",
   "execution_count": 19,
   "metadata": {},
   "outputs": [],
   "source": [
    "def compute_matrix_corr(A,B):\n",
    "    return np.corrcoef(A.reshape(1,len(A)*len(A[0])),B.reshape(1,len(B)*len(B[0])))[0][1]"
   ]
  },
  {
   "cell_type": "code",
   "execution_count": 20,
   "metadata": {},
   "outputs": [],
   "source": [
    "import pandas as pd"
   ]
  },
  {
   "cell_type": "code",
   "execution_count": 22,
   "metadata": {
    "collapsed": true,
    "jupyter": {
     "outputs_hidden": true
    },
    "tags": []
   },
   "outputs": [
    {
     "name": "stdout",
     "output_type": "stream",
     "text": [
      "Calculating Cov matrix for all tasks/rest for subject: 0\n",
      "Calculating Cov matrix for all tasks/rest for subject: 1\n",
      "Calculating Cov matrix for all tasks/rest for subject: 2\n",
      "Calculating Cov matrix for all tasks/rest for subject: 3\n",
      "Calculating Cov matrix for all tasks/rest for subject: 4\n",
      "Calculating Cov matrix for all tasks/rest for subject: 5\n",
      "Calculating Cov matrix for all tasks/rest for subject: 6\n",
      "Calculating Cov matrix for all tasks/rest for subject: 7\n",
      "Calculating Cov matrix for all tasks/rest for subject: 8\n",
      "Calculating Cov matrix for all tasks/rest for subject: 9\n",
      "Calculating Cov matrix for all tasks/rest for subject: 10\n",
      "Calculating Cov matrix for all tasks/rest for subject: 11\n",
      "Calculating Cov matrix for all tasks/rest for subject: 12\n",
      "Calculating Cov matrix for all tasks/rest for subject: 13\n",
      "Calculating Cov matrix for all tasks/rest for subject: 14\n",
      "Calculating Cov matrix for all tasks/rest for subject: 15\n",
      "Calculating Cov matrix for all tasks/rest for subject: 16\n",
      "Calculating Cov matrix for all tasks/rest for subject: 17\n",
      "Calculating Cov matrix for all tasks/rest for subject: 18\n",
      "Calculating Cov matrix for all tasks/rest for subject: 19\n",
      "Calculating Cov matrix for all tasks/rest for subject: 20\n",
      "Calculating Cov matrix for all tasks/rest for subject: 21\n",
      "Calculating Cov matrix for all tasks/rest for subject: 22\n",
      "Calculating Cov matrix for all tasks/rest for subject: 23\n",
      "Calculating Cov matrix for all tasks/rest for subject: 24\n",
      "Calculating Cov matrix for all tasks/rest for subject: 25\n",
      "Calculating Cov matrix for all tasks/rest for subject: 26\n",
      "Calculating Cov matrix for all tasks/rest for subject: 27\n",
      "Calculating Cov matrix for all tasks/rest for subject: 28\n",
      "Calculating Cov matrix for all tasks/rest for subject: 29\n",
      "Calculating Cov matrix for all tasks/rest for subject: 30\n",
      "Calculating Cov matrix for all tasks/rest for subject: 31\n",
      "Calculating Cov matrix for all tasks/rest for subject: 32\n",
      "Calculating Cov matrix for all tasks/rest for subject: 33\n",
      "Calculating Cov matrix for all tasks/rest for subject: 34\n",
      "Calculating Cov matrix for all tasks/rest for subject: 35\n",
      "Calculating Cov matrix for all tasks/rest for subject: 36\n",
      "Calculating Cov matrix for all tasks/rest for subject: 37\n",
      "Calculating Cov matrix for all tasks/rest for subject: 38\n",
      "Calculating Cov matrix for all tasks/rest for subject: 39\n",
      "Calculating Cov matrix for all tasks/rest for subject: 40\n",
      "Calculating Cov matrix for all tasks/rest for subject: 41\n",
      "Calculating Cov matrix for all tasks/rest for subject: 42\n",
      "Calculating Cov matrix for all tasks/rest for subject: 43\n",
      "Calculating Cov matrix for all tasks/rest for subject: 44\n",
      "Calculating Cov matrix for all tasks/rest for subject: 45\n",
      "Calculating Cov matrix for all tasks/rest for subject: 46\n",
      "Calculating Cov matrix for all tasks/rest for subject: 47\n",
      "Calculating Cov matrix for all tasks/rest for subject: 48\n",
      "Calculating Cov matrix for all tasks/rest for subject: 49\n",
      "Calculating Cov matrix for all tasks/rest for subject: 50\n",
      "Calculating Cov matrix for all tasks/rest for subject: 51\n",
      "Calculating Cov matrix for all tasks/rest for subject: 52\n",
      "Calculating Cov matrix for all tasks/rest for subject: 53\n",
      "Calculating Cov matrix for all tasks/rest for subject: 54\n",
      "Calculating Cov matrix for all tasks/rest for subject: 55\n",
      "Calculating Cov matrix for all tasks/rest for subject: 56\n",
      "Calculating Cov matrix for all tasks/rest for subject: 57\n",
      "Calculating Cov matrix for all tasks/rest for subject: 58\n",
      "Calculating Cov matrix for all tasks/rest for subject: 59\n",
      "Calculating Cov matrix for all tasks/rest for subject: 60\n",
      "Calculating Cov matrix for all tasks/rest for subject: 61\n",
      "Calculating Cov matrix for all tasks/rest for subject: 62\n",
      "Calculating Cov matrix for all tasks/rest for subject: 63\n",
      "Calculating Cov matrix for all tasks/rest for subject: 64\n",
      "Calculating Cov matrix for all tasks/rest for subject: 65\n",
      "Calculating Cov matrix for all tasks/rest for subject: 66\n",
      "Calculating Cov matrix for all tasks/rest for subject: 67\n",
      "Calculating Cov matrix for all tasks/rest for subject: 68\n",
      "Calculating Cov matrix for all tasks/rest for subject: 69\n",
      "Calculating Cov matrix for all tasks/rest for subject: 70\n",
      "Calculating Cov matrix for all tasks/rest for subject: 71\n",
      "Calculating Cov matrix for all tasks/rest for subject: 72\n",
      "Calculating Cov matrix for all tasks/rest for subject: 73\n",
      "Calculating Cov matrix for all tasks/rest for subject: 74\n",
      "Calculating Cov matrix for all tasks/rest for subject: 75\n",
      "Calculating Cov matrix for all tasks/rest for subject: 76\n",
      "Calculating Cov matrix for all tasks/rest for subject: 77\n",
      "Calculating Cov matrix for all tasks/rest for subject: 78\n",
      "Calculating Cov matrix for all tasks/rest for subject: 79\n",
      "Calculating Cov matrix for all tasks/rest for subject: 80\n",
      "Calculating Cov matrix for all tasks/rest for subject: 81\n",
      "Calculating Cov matrix for all tasks/rest for subject: 82\n",
      "Calculating Cov matrix for all tasks/rest for subject: 83\n",
      "Calculating Cov matrix for all tasks/rest for subject: 84\n",
      "Calculating Cov matrix for all tasks/rest for subject: 85\n",
      "Calculating Cov matrix for all tasks/rest for subject: 86\n",
      "Calculating Cov matrix for all tasks/rest for subject: 87\n",
      "Calculating Cov matrix for all tasks/rest for subject: 88\n",
      "Calculating Cov matrix for all tasks/rest for subject: 89\n",
      "Calculating Cov matrix for all tasks/rest for subject: 90\n",
      "Calculating Cov matrix for all tasks/rest for subject: 91\n",
      "Calculating Cov matrix for all tasks/rest for subject: 92\n",
      "Calculating Cov matrix for all tasks/rest for subject: 93\n",
      "Calculating Cov matrix for all tasks/rest for subject: 94\n",
      "Calculating Cov matrix for all tasks/rest for subject: 95\n",
      "Calculating Cov matrix for all tasks/rest for subject: 96\n",
      "Calculating Cov matrix for all tasks/rest for subject: 97\n",
      "Calculating Cov matrix for all tasks/rest for subject: 98\n",
      "Calculating Cov matrix for all tasks/rest for subject: 99\n",
      "Calculating Cov matrix for all tasks/rest for subject: 100\n",
      "Calculating Cov matrix for all tasks/rest for subject: 101\n",
      "Calculating Cov matrix for all tasks/rest for subject: 102\n",
      "Calculating Cov matrix for all tasks/rest for subject: 103\n",
      "Calculating Cov matrix for all tasks/rest for subject: 104\n",
      "Calculating Cov matrix for all tasks/rest for subject: 105\n",
      "Calculating Cov matrix for all tasks/rest for subject: 106\n",
      "Calculating Cov matrix for all tasks/rest for subject: 107\n",
      "Calculating Cov matrix for all tasks/rest for subject: 108\n",
      "Calculating Cov matrix for all tasks/rest for subject: 109\n",
      "Calculating Cov matrix for all tasks/rest for subject: 110\n",
      "Calculating Cov matrix for all tasks/rest for subject: 111\n",
      "Calculating Cov matrix for all tasks/rest for subject: 112\n",
      "Calculating Cov matrix for all tasks/rest for subject: 113\n",
      "Calculating Cov matrix for all tasks/rest for subject: 114\n",
      "Calculating Cov matrix for all tasks/rest for subject: 115\n",
      "Calculating Cov matrix for all tasks/rest for subject: 116\n",
      "Calculating Cov matrix for all tasks/rest for subject: 117\n",
      "Calculating Cov matrix for all tasks/rest for subject: 118\n",
      "Calculating Cov matrix for all tasks/rest for subject: 119\n",
      "Calculating Cov matrix for all tasks/rest for subject: 120\n",
      "Calculating Cov matrix for all tasks/rest for subject: 121\n",
      "Calculating Cov matrix for all tasks/rest for subject: 122\n",
      "Calculating Cov matrix for all tasks/rest for subject: 123\n",
      "Calculating Cov matrix for all tasks/rest for subject: 124\n",
      "Calculating Cov matrix for all tasks/rest for subject: 125\n",
      "Calculating Cov matrix for all tasks/rest for subject: 126\n",
      "Calculating Cov matrix for all tasks/rest for subject: 127\n",
      "Calculating Cov matrix for all tasks/rest for subject: 128\n",
      "Calculating Cov matrix for all tasks/rest for subject: 129\n",
      "Calculating Cov matrix for all tasks/rest for subject: 130\n",
      "Calculating Cov matrix for all tasks/rest for subject: 131\n",
      "Calculating Cov matrix for all tasks/rest for subject: 132\n",
      "Calculating Cov matrix for all tasks/rest for subject: 133\n",
      "Calculating Cov matrix for all tasks/rest for subject: 134\n",
      "Calculating Cov matrix for all tasks/rest for subject: 135\n",
      "Calculating Cov matrix for all tasks/rest for subject: 136\n",
      "Calculating Cov matrix for all tasks/rest for subject: 137\n",
      "Calculating Cov matrix for all tasks/rest for subject: 138\n",
      "Calculating Cov matrix for all tasks/rest for subject: 139\n",
      "Calculating Cov matrix for all tasks/rest for subject: 140\n",
      "Calculating Cov matrix for all tasks/rest for subject: 141\n",
      "Calculating Cov matrix for all tasks/rest for subject: 142\n",
      "Calculating Cov matrix for all tasks/rest for subject: 143\n",
      "Calculating Cov matrix for all tasks/rest for subject: 144\n",
      "Calculating Cov matrix for all tasks/rest for subject: 145\n",
      "Calculating Cov matrix for all tasks/rest for subject: 146\n",
      "Calculating Cov matrix for all tasks/rest for subject: 147\n",
      "Calculating Cov matrix for all tasks/rest for subject: 148\n",
      "Calculating Cov matrix for all tasks/rest for subject: 149\n",
      "Calculating Cov matrix for all tasks/rest for subject: 150\n",
      "Calculating Cov matrix for all tasks/rest for subject: 151\n",
      "Calculating Cov matrix for all tasks/rest for subject: 152\n",
      "Calculating Cov matrix for all tasks/rest for subject: 153\n",
      "Calculating Cov matrix for all tasks/rest for subject: 154\n",
      "Calculating Cov matrix for all tasks/rest for subject: 155\n",
      "Calculating Cov matrix for all tasks/rest for subject: 156\n",
      "Calculating Cov matrix for all tasks/rest for subject: 157\n",
      "Calculating Cov matrix for all tasks/rest for subject: 158\n",
      "Calculating Cov matrix for all tasks/rest for subject: 159\n",
      "Calculating Cov matrix for all tasks/rest for subject: 160\n",
      "Calculating Cov matrix for all tasks/rest for subject: 161\n",
      "Calculating Cov matrix for all tasks/rest for subject: 162\n",
      "Calculating Cov matrix for all tasks/rest for subject: 163\n",
      "Calculating Cov matrix for all tasks/rest for subject: 164\n",
      "Calculating Cov matrix for all tasks/rest for subject: 165\n",
      "Calculating Cov matrix for all tasks/rest for subject: 166\n",
      "Calculating Cov matrix for all tasks/rest for subject: 167\n",
      "Calculating Cov matrix for all tasks/rest for subject: 168\n",
      "Calculating Cov matrix for all tasks/rest for subject: 169\n",
      "Calculating Cov matrix for all tasks/rest for subject: 170\n",
      "Calculating Cov matrix for all tasks/rest for subject: 171\n",
      "Calculating Cov matrix for all tasks/rest for subject: 172\n",
      "Calculating Cov matrix for all tasks/rest for subject: 173\n",
      "Calculating Cov matrix for all tasks/rest for subject: 174\n",
      "Calculating Cov matrix for all tasks/rest for subject: 175\n",
      "Calculating Cov matrix for all tasks/rest for subject: 176\n",
      "Calculating Cov matrix for all tasks/rest for subject: 177\n",
      "Calculating Cov matrix for all tasks/rest for subject: 178\n",
      "Calculating Cov matrix for all tasks/rest for subject: 179\n",
      "Calculating Cov matrix for all tasks/rest for subject: 180\n",
      "Calculating Cov matrix for all tasks/rest for subject: 181\n",
      "Calculating Cov matrix for all tasks/rest for subject: 182\n",
      "Calculating Cov matrix for all tasks/rest for subject: 183\n",
      "Calculating Cov matrix for all tasks/rest for subject: 184\n",
      "Calculating Cov matrix for all tasks/rest for subject: 185\n",
      "Calculating Cov matrix for all tasks/rest for subject: 186\n",
      "Calculating Cov matrix for all tasks/rest for subject: 187\n",
      "Calculating Cov matrix for all tasks/rest for subject: 188\n",
      "Calculating Cov matrix for all tasks/rest for subject: 189\n",
      "Calculating Cov matrix for all tasks/rest for subject: 190\n",
      "Calculating Cov matrix for all tasks/rest for subject: 191\n",
      "Calculating Cov matrix for all tasks/rest for subject: 192\n",
      "Calculating Cov matrix for all tasks/rest for subject: 193\n",
      "Calculating Cov matrix for all tasks/rest for subject: 194\n",
      "Calculating Cov matrix for all tasks/rest for subject: 195\n",
      "Calculating Cov matrix for all tasks/rest for subject: 196\n",
      "Calculating Cov matrix for all tasks/rest for subject: 197\n",
      "Calculating Cov matrix for all tasks/rest for subject: 198\n",
      "Calculating Cov matrix for all tasks/rest for subject: 199\n",
      "Calculating Cov matrix for all tasks/rest for subject: 200\n",
      "Calculating Cov matrix for all tasks/rest for subject: 201\n",
      "Calculating Cov matrix for all tasks/rest for subject: 202\n",
      "Calculating Cov matrix for all tasks/rest for subject: 203\n",
      "Calculating Cov matrix for all tasks/rest for subject: 204\n",
      "Calculating Cov matrix for all tasks/rest for subject: 205\n",
      "Calculating Cov matrix for all tasks/rest for subject: 206\n",
      "Calculating Cov matrix for all tasks/rest for subject: 207\n",
      "Calculating Cov matrix for all tasks/rest for subject: 208\n",
      "Calculating Cov matrix for all tasks/rest for subject: 209\n",
      "Calculating Cov matrix for all tasks/rest for subject: 210\n",
      "Calculating Cov matrix for all tasks/rest for subject: 211\n",
      "Calculating Cov matrix for all tasks/rest for subject: 212\n",
      "Calculating Cov matrix for all tasks/rest for subject: 213\n",
      "Calculating Cov matrix for all tasks/rest for subject: 214\n",
      "Calculating Cov matrix for all tasks/rest for subject: 215\n",
      "Calculating Cov matrix for all tasks/rest for subject: 216\n",
      "Calculating Cov matrix for all tasks/rest for subject: 217\n",
      "Calculating Cov matrix for all tasks/rest for subject: 218\n",
      "Calculating Cov matrix for all tasks/rest for subject: 219\n",
      "Calculating Cov matrix for all tasks/rest for subject: 220\n",
      "Calculating Cov matrix for all tasks/rest for subject: 221\n",
      "Calculating Cov matrix for all tasks/rest for subject: 222\n",
      "Calculating Cov matrix for all tasks/rest for subject: 223\n",
      "Calculating Cov matrix for all tasks/rest for subject: 224\n",
      "Calculating Cov matrix for all tasks/rest for subject: 225\n",
      "Calculating Cov matrix for all tasks/rest for subject: 226\n",
      "Calculating Cov matrix for all tasks/rest for subject: 227\n",
      "Calculating Cov matrix for all tasks/rest for subject: 228\n",
      "Calculating Cov matrix for all tasks/rest for subject: 229\n",
      "Calculating Cov matrix for all tasks/rest for subject: 230\n",
      "Calculating Cov matrix for all tasks/rest for subject: 231\n",
      "Calculating Cov matrix for all tasks/rest for subject: 232\n",
      "Calculating Cov matrix for all tasks/rest for subject: 233\n",
      "Calculating Cov matrix for all tasks/rest for subject: 234\n",
      "Calculating Cov matrix for all tasks/rest for subject: 235\n",
      "Calculating Cov matrix for all tasks/rest for subject: 236\n",
      "Calculating Cov matrix for all tasks/rest for subject: 237\n",
      "Calculating Cov matrix for all tasks/rest for subject: 238\n",
      "Calculating Cov matrix for all tasks/rest for subject: 239\n",
      "Calculating Cov matrix for all tasks/rest for subject: 240\n",
      "Calculating Cov matrix for all tasks/rest for subject: 241\n",
      "Calculating Cov matrix for all tasks/rest for subject: 242\n",
      "Calculating Cov matrix for all tasks/rest for subject: 243\n",
      "Calculating Cov matrix for all tasks/rest for subject: 244\n",
      "Calculating Cov matrix for all tasks/rest for subject: 245\n",
      "Calculating Cov matrix for all tasks/rest for subject: 246\n",
      "Calculating Cov matrix for all tasks/rest for subject: 247\n",
      "Calculating Cov matrix for all tasks/rest for subject: 248\n",
      "Calculating Cov matrix for all tasks/rest for subject: 249\n",
      "Calculating Cov matrix for all tasks/rest for subject: 250\n",
      "Calculating Cov matrix for all tasks/rest for subject: 251\n",
      "Calculating Cov matrix for all tasks/rest for subject: 252\n",
      "Calculating Cov matrix for all tasks/rest for subject: 253\n",
      "Calculating Cov matrix for all tasks/rest for subject: 254\n",
      "Calculating Cov matrix for all tasks/rest for subject: 255\n",
      "Calculating Cov matrix for all tasks/rest for subject: 256\n",
      "Calculating Cov matrix for all tasks/rest for subject: 257\n",
      "Calculating Cov matrix for all tasks/rest for subject: 258\n",
      "Calculating Cov matrix for all tasks/rest for subject: 259\n",
      "Calculating Cov matrix for all tasks/rest for subject: 260\n",
      "Calculating Cov matrix for all tasks/rest for subject: 261\n",
      "Calculating Cov matrix for all tasks/rest for subject: 262\n",
      "Calculating Cov matrix for all tasks/rest for subject: 263\n",
      "Calculating Cov matrix for all tasks/rest for subject: 264\n",
      "Calculating Cov matrix for all tasks/rest for subject: 265\n",
      "Calculating Cov matrix for all tasks/rest for subject: 266\n",
      "Calculating Cov matrix for all tasks/rest for subject: 267\n",
      "Calculating Cov matrix for all tasks/rest for subject: 268\n",
      "Calculating Cov matrix for all tasks/rest for subject: 269\n",
      "Calculating Cov matrix for all tasks/rest for subject: 270\n",
      "Calculating Cov matrix for all tasks/rest for subject: 271\n",
      "Calculating Cov matrix for all tasks/rest for subject: 272\n",
      "Calculating Cov matrix for all tasks/rest for subject: 273\n",
      "Calculating Cov matrix for all tasks/rest for subject: 274\n",
      "Calculating Cov matrix for all tasks/rest for subject: 275\n",
      "Calculating Cov matrix for all tasks/rest for subject: 276\n",
      "Calculating Cov matrix for all tasks/rest for subject: 277\n",
      "Calculating Cov matrix for all tasks/rest for subject: 278\n",
      "Calculating Cov matrix for all tasks/rest for subject: 279\n",
      "Calculating Cov matrix for all tasks/rest for subject: 280\n",
      "Calculating Cov matrix for all tasks/rest for subject: 281\n",
      "Calculating Cov matrix for all tasks/rest for subject: 282\n",
      "Calculating Cov matrix for all tasks/rest for subject: 283\n",
      "Calculating Cov matrix for all tasks/rest for subject: 284\n",
      "Calculating Cov matrix for all tasks/rest for subject: 285\n",
      "Calculating Cov matrix for all tasks/rest for subject: 286\n",
      "Calculating Cov matrix for all tasks/rest for subject: 287\n",
      "Calculating Cov matrix for all tasks/rest for subject: 288\n",
      "Calculating Cov matrix for all tasks/rest for subject: 289\n",
      "Calculating Cov matrix for all tasks/rest for subject: 290\n",
      "Calculating Cov matrix for all tasks/rest for subject: 291\n",
      "Calculating Cov matrix for all tasks/rest for subject: 292\n",
      "Calculating Cov matrix for all tasks/rest for subject: 293\n",
      "Calculating Cov matrix for all tasks/rest for subject: 294\n",
      "Calculating Cov matrix for all tasks/rest for subject: 295\n",
      "Calculating Cov matrix for all tasks/rest for subject: 296\n",
      "Calculating Cov matrix for all tasks/rest for subject: 297\n",
      "Calculating Cov matrix for all tasks/rest for subject: 298\n",
      "Calculating Cov matrix for all tasks/rest for subject: 299\n",
      "Calculating Cov matrix for all tasks/rest for subject: 300\n",
      "Calculating Cov matrix for all tasks/rest for subject: 301\n",
      "Calculating Cov matrix for all tasks/rest for subject: 302\n",
      "Calculating Cov matrix for all tasks/rest for subject: 303\n",
      "Calculating Cov matrix for all tasks/rest for subject: 304\n",
      "Calculating Cov matrix for all tasks/rest for subject: 305\n",
      "Calculating Cov matrix for all tasks/rest for subject: 306\n",
      "Calculating Cov matrix for all tasks/rest for subject: 307\n",
      "Calculating Cov matrix for all tasks/rest for subject: 308\n",
      "Calculating Cov matrix for all tasks/rest for subject: 309\n",
      "Calculating Cov matrix for all tasks/rest for subject: 310\n",
      "Calculating Cov matrix for all tasks/rest for subject: 311\n",
      "Calculating Cov matrix for all tasks/rest for subject: 312\n",
      "Calculating Cov matrix for all tasks/rest for subject: 313\n",
      "Calculating Cov matrix for all tasks/rest for subject: 314\n",
      "Calculating Cov matrix for all tasks/rest for subject: 315\n",
      "Calculating Cov matrix for all tasks/rest for subject: 316\n",
      "Calculating Cov matrix for all tasks/rest for subject: 317\n",
      "Calculating Cov matrix for all tasks/rest for subject: 318\n",
      "Calculating Cov matrix for all tasks/rest for subject: 319\n",
      "Calculating Cov matrix for all tasks/rest for subject: 320\n",
      "Calculating Cov matrix for all tasks/rest for subject: 321\n",
      "Calculating Cov matrix for all tasks/rest for subject: 322\n",
      "Calculating Cov matrix for all tasks/rest for subject: 323\n",
      "Calculating Cov matrix for all tasks/rest for subject: 324\n",
      "Calculating Cov matrix for all tasks/rest for subject: 325\n",
      "Calculating Cov matrix for all tasks/rest for subject: 326\n",
      "Calculating Cov matrix for all tasks/rest for subject: 327\n",
      "Calculating Cov matrix for all tasks/rest for subject: 328\n",
      "Calculating Cov matrix for all tasks/rest for subject: 329\n",
      "Calculating Cov matrix for all tasks/rest for subject: 330\n",
      "Calculating Cov matrix for all tasks/rest for subject: 331\n",
      "Calculating Cov matrix for all tasks/rest for subject: 332\n",
      "Calculating Cov matrix for all tasks/rest for subject: 333\n",
      "Calculating Cov matrix for all tasks/rest for subject: 334\n",
      "Calculating Cov matrix for all tasks/rest for subject: 335\n",
      "Calculating Cov matrix for all tasks/rest for subject: 336\n",
      "Calculating Cov matrix for all tasks/rest for subject: 337\n",
      "Calculating Cov matrix for all tasks/rest for subject: 338\n"
     ]
    }
   ],
   "source": [
    "cov_mental = []\n",
    "cov_random = []\n",
    "cov_math = []\n",
    "cov_story = []\n",
    "cov_rest = []\n",
    "\n",
    "connect_matrix_corr = []\n",
    "\n",
    "for my_subj in range(N_SUBJECTS):\n",
    "    \n",
    "    print(f\"Calculating Cov matrix for all tasks/rest for subject: {my_subj}\")\n",
    "    \n",
    "    mental_ts = np.concatenate((social_all_ts[my_subj][0][0],social_all_ts[my_subj][1][0]),axis=-1)\n",
    "    random_ts = np.concatenate((social_all_ts[my_subj][0][1],social_all_ts[my_subj][1][1]),axis=-1)\n",
    "    math_ts = np.concatenate((lan_all_ts[my_subj][0][0],lan_all_ts[my_subj][1][0]),axis=-1)\n",
    "    story_ts = np.concatenate((lan_all_ts[my_subj][0][1],lan_all_ts[my_subj][1][1]),axis=-1)\n",
    "    rest_ts = load_rest_timeseries(subject = my_subj, run = 1, dir=os.path.join(HCP_DIR, \"hcp_rest\"), remove_mean=True)\n",
    "    \n",
    "    mental_matrix = get_covariance_matrix(mental_ts)\n",
    "    random_matrix = get_covariance_matrix(random_ts)\n",
    "    math_matrix = get_covariance_matrix(math_ts)\n",
    "    story_matrix = get_covariance_matrix(story_ts)\n",
    "    rest_matrix = get_covariance_matrix(rest_ts)\n",
    "    \n",
    "    cov_mental.append(mental_matrix)\n",
    "    cov_random.append(random_matrix)\n",
    "    cov_math.append(math_matrix)\n",
    "    cov_story.append(story_matrix)\n",
    "    cov_rest.append(get_covariance_matrix(rest_ts))\n",
    "    \n",
    "    connect_matrix_corr.append(\n",
    "        [\n",
    "            compute_matrix_corr(mental_matrix, rest_matrix),\n",
    "            compute_matrix_corr(random_matrix, rest_matrix),\n",
    "            compute_matrix_corr(math_matrix, rest_matrix),\n",
    "            compute_matrix_corr(story_matrix, rest_matrix)\n",
    "        ]\n",
    "    )\n",
    "\n",
    "pd_columns=['mental_vs_rest', 'random_vs_rest', 'math_vs_rest', 'story_vs_rest']\n",
    "corr_dataframe = pd.DataFrame(connect_matrix_corr, columns=pd_columns)"
   ]
  },
  {
   "cell_type": "code",
   "execution_count": 23,
   "metadata": {},
   "outputs": [
    {
     "data": {
      "text/html": [
       "<div>\n",
       "<style scoped>\n",
       "    .dataframe tbody tr th:only-of-type {\n",
       "        vertical-align: middle;\n",
       "    }\n",
       "\n",
       "    .dataframe tbody tr th {\n",
       "        vertical-align: top;\n",
       "    }\n",
       "\n",
       "    .dataframe thead th {\n",
       "        text-align: right;\n",
       "    }\n",
       "</style>\n",
       "<table border=\"1\" class=\"dataframe\">\n",
       "  <thead>\n",
       "    <tr style=\"text-align: right;\">\n",
       "      <th></th>\n",
       "      <th>mental_vs_rest</th>\n",
       "      <th>random_vs_rest</th>\n",
       "      <th>math_vs_rest</th>\n",
       "      <th>story_vs_rest</th>\n",
       "    </tr>\n",
       "  </thead>\n",
       "  <tbody>\n",
       "    <tr>\n",
       "      <th>0</th>\n",
       "      <td>0.306192</td>\n",
       "      <td>0.242531</td>\n",
       "      <td>0.337366</td>\n",
       "      <td>0.439234</td>\n",
       "    </tr>\n",
       "    <tr>\n",
       "      <th>1</th>\n",
       "      <td>0.186418</td>\n",
       "      <td>0.364396</td>\n",
       "      <td>0.269377</td>\n",
       "      <td>0.212878</td>\n",
       "    </tr>\n",
       "    <tr>\n",
       "      <th>2</th>\n",
       "      <td>0.281925</td>\n",
       "      <td>0.336489</td>\n",
       "      <td>0.423372</td>\n",
       "      <td>0.373511</td>\n",
       "    </tr>\n",
       "    <tr>\n",
       "      <th>3</th>\n",
       "      <td>0.149071</td>\n",
       "      <td>0.192516</td>\n",
       "      <td>0.226534</td>\n",
       "      <td>0.248482</td>\n",
       "    </tr>\n",
       "    <tr>\n",
       "      <th>4</th>\n",
       "      <td>0.170683</td>\n",
       "      <td>0.255111</td>\n",
       "      <td>0.255080</td>\n",
       "      <td>0.206668</td>\n",
       "    </tr>\n",
       "    <tr>\n",
       "      <th>...</th>\n",
       "      <td>...</td>\n",
       "      <td>...</td>\n",
       "      <td>...</td>\n",
       "      <td>...</td>\n",
       "    </tr>\n",
       "    <tr>\n",
       "      <th>334</th>\n",
       "      <td>0.238266</td>\n",
       "      <td>0.220802</td>\n",
       "      <td>0.301009</td>\n",
       "      <td>0.243456</td>\n",
       "    </tr>\n",
       "    <tr>\n",
       "      <th>335</th>\n",
       "      <td>0.323737</td>\n",
       "      <td>0.244053</td>\n",
       "      <td>0.299907</td>\n",
       "      <td>0.316885</td>\n",
       "    </tr>\n",
       "    <tr>\n",
       "      <th>336</th>\n",
       "      <td>0.252057</td>\n",
       "      <td>0.219029</td>\n",
       "      <td>0.363009</td>\n",
       "      <td>0.445568</td>\n",
       "    </tr>\n",
       "    <tr>\n",
       "      <th>337</th>\n",
       "      <td>0.224993</td>\n",
       "      <td>0.299267</td>\n",
       "      <td>0.299027</td>\n",
       "      <td>0.326978</td>\n",
       "    </tr>\n",
       "    <tr>\n",
       "      <th>338</th>\n",
       "      <td>0.207542</td>\n",
       "      <td>0.265927</td>\n",
       "      <td>0.193460</td>\n",
       "      <td>0.284014</td>\n",
       "    </tr>\n",
       "  </tbody>\n",
       "</table>\n",
       "<p>339 rows × 4 columns</p>\n",
       "</div>"
      ],
      "text/plain": [
       "     mental_vs_rest  random_vs_rest  math_vs_rest  story_vs_rest\n",
       "0          0.306192        0.242531      0.337366       0.439234\n",
       "1          0.186418        0.364396      0.269377       0.212878\n",
       "2          0.281925        0.336489      0.423372       0.373511\n",
       "3          0.149071        0.192516      0.226534       0.248482\n",
       "4          0.170683        0.255111      0.255080       0.206668\n",
       "..              ...             ...           ...            ...\n",
       "334        0.238266        0.220802      0.301009       0.243456\n",
       "335        0.323737        0.244053      0.299907       0.316885\n",
       "336        0.252057        0.219029      0.363009       0.445568\n",
       "337        0.224993        0.299267      0.299027       0.326978\n",
       "338        0.207542        0.265927      0.193460       0.284014\n",
       "\n",
       "[339 rows x 4 columns]"
      ]
     },
     "execution_count": 23,
     "metadata": {},
     "output_type": "execute_result"
    }
   ],
   "source": [
    "corr_dataframe"
   ]
  },
  {
   "cell_type": "code",
   "execution_count": 24,
   "metadata": {},
   "outputs": [],
   "source": [
    "corr_dataframe.to_csv('covariance_correlation.csv', sep='\\t', encoding='utf-8')"
   ]
  },
  {
   "cell_type": "code",
   "execution_count": null,
   "metadata": {},
   "outputs": [],
   "source": []
  }
 ],
 "metadata": {
  "colab": {
   "collapsed_sections": [],
   "name": "Copy of “load_hcp_task”的副本",
   "provenance": [],
   "toc_visible": true
  },
  "kernel": {
   "display_name": "Python 3",
   "language": "python",
   "name": "python3"
  },
  "kernelspec": {
   "display_name": "Python 3.8.10 64-bit",
   "language": "python",
   "name": "python3"
  },
  "language_info": {
   "codemirror_mode": {
    "name": "ipython",
    "version": 3
   },
   "file_extension": ".py",
   "mimetype": "text/x-python",
   "name": "python",
   "nbconvert_exporter": "python",
   "pygments_lexer": "ipython3",
   "version": "3.8.10"
  },
  "vscode": {
   "interpreter": {
    "hash": "916dbcbb3f70747c44a77c7bcd40155683ae19c65e1c03b4aa3499c5328201f1"
   }
  }
 },
 "nbformat": 4,
 "nbformat_minor": 4
}
